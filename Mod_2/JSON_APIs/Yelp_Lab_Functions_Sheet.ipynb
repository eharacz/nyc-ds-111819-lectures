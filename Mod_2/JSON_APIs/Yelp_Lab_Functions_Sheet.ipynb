{
 "cells": [
  {
   "cell_type": "code",
   "execution_count": null,
   "metadata": {},
   "outputs": [],
   "source": [
    "###################### BUSINESS ENDPOINT FUNCTIONS"
   ]
  },
  {
   "cell_type": "code",
   "execution_count": null,
   "metadata": {},
   "outputs": [],
   "source": [
    "url = 'https://api.yelp.com/v3/businesses/search'\n",
    "client_id = 'SrP-vVinyIiYU2-NOuqnOA'\n",
    "api_key = 'CaJ2qY7XSMjW7nhV9IK8KiEYI6Yj3kPAXR6Jdgstzo-YOFuAfT3AbrRF6UID6P9ia75sS8dzlih1HNcZEK1EHzu8Dp-gOnC3eVdyNpHKt4iJIUIOC7ovxCM68jrpXXYx'\n",
    "headers = {\n",
    "        'Authorization': 'Bearer {}'.format(api_key),\n",
    "        }\n",
    "        # what type of business do you want to search\n",
    "term = 'bagel'\n",
    "\n",
    "        #where do you want to perform this search\n",
    "location = 'East Village'\n",
    "\n",
    "        # what is your other parameter you want to search against\n",
    "radius = 5000\n",
    "\n",
    "limit = 50\n",
    "    \n",
    "offset = cur\n",
    "    \n",
    "url_params = {\n",
    "                \"term\": term.replace(' ', '+'),\n",
    "                \"location\": location.replace(' ', '+'),\n",
    "                \"radius\" : radius,\n",
    "                \"limit\" : limit,\n",
    "                \"offset\" : offset\n",
    "        \n",
    "                }"
   ]
  },
  {
   "cell_type": "code",
   "execution_count": 6,
   "metadata": {},
   "outputs": [],
   "source": [
    "# API Call Function\n",
    "def api_call(url, headers, url_params):\n",
    "    response = requests.get(url, headers=headers, params=url_params)\n",
    "    data = response.json()\n",
    "    business = data['businesses']\n",
    "    return business"
   ]
  },
  {
   "cell_type": "code",
   "execution_count": 5,
   "metadata": {},
   "outputs": [],
   "source": [
    "# Data Parsing Function\n",
    "\n",
    "def parse_data(data_list):\n",
    "    parsed_data = []  \n",
    "    for business in data_list:\n",
    "        try:\n",
    "            biz_tuple = (business['id'], business['name'], ' '.join(business['location']['display_address']), business['rating'], len(business['price']), business['review_count'])\n",
    "            parsed_data.append(biz_tuple)    \n",
    "        except:\n",
    "            biz_tuple = (business['id'], business['name'], ' '.join(business['location']['display_address']), business['rating'], 0, business['review_count'])\n",
    "            parsed_data.append(biz_tuple)\n",
    "    return parsed_data"
   ]
  },
  {
   "cell_type": "code",
   "execution_count": null,
   "metadata": {},
   "outputs": [],
   "source": [
    "# Insert into DB Function\n",
    "\n",
    "def insert_func(cnx, cursor, parsed_data):\n",
    "    stmt = \"INSERT INTO businesses (business_id, name, address, rating, price, review_count) VALUES (%s, %s, %s, %s, %s, %s)\"\n",
    "    cursor.executemany(stmt, parsed_data)\n",
    "    cnx.commit()\n",
    "    print('Check the workbench.')"
   ]
  },
  {
   "cell_type": "code",
   "execution_count": 7,
   "metadata": {},
   "outputs": [],
   "source": [
    "# Script/Function that combines the three functions above into a single process.\n",
    "def paginate(url_params, headers, url):\n",
    "    cur = 0\n",
    "    while cur < 1000:\n",
    "        url_params['offset'] = cur\n",
    "        businesses = api_call(url, headers, url_params)\n",
    "        parsed_data = parse_data(businesses)\n",
    "        insert_func(cnx, cursor, parsed_data)\n",
    "        cur += 50   "
   ]
  },
  {
   "cell_type": "code",
   "execution_count": null,
   "metadata": {},
   "outputs": [],
   "source": []
  },
  {
   "cell_type": "code",
   "execution_count": null,
   "metadata": {},
   "outputs": [],
   "source": [
    "##############################################################################################"
   ]
  },
  {
   "cell_type": "code",
   "execution_count": null,
   "metadata": {},
   "outputs": [],
   "source": [
    "#################################### REVIEWS #################################################"
   ]
  },
  {
   "cell_type": "code",
   "execution_count": null,
   "metadata": {},
   "outputs": [],
   "source": [
    "############################ REVIEW ENDPOINT FUNCTIONS"
   ]
  },
  {
   "cell_type": "code",
   "execution_count": 7,
   "metadata": {
    "collapsed": true
   },
   "outputs": [
    {
     "ename": "NameError",
     "evalue": "name 'cursor' is not defined",
     "output_type": "error",
     "traceback": [
      "\u001b[0;31m---------------------------------------------------------------------------\u001b[0m",
      "\u001b[0;31mNameError\u001b[0m                                 Traceback (most recent call last)",
      "\u001b[0;32m<ipython-input-7-fd10f4560843>\u001b[0m in \u001b[0;36m<module>\u001b[0;34m\u001b[0m\n\u001b[0;32m----> 1\u001b[0;31m \u001b[0mcursor\u001b[0m\u001b[0;34m.\u001b[0m\u001b[0mexecute\u001b[0m\u001b[0;34m(\u001b[0m\u001b[0;34m\"\"\"SELECT business_id FROM yelp.businesses;\"\"\"\u001b[0m\u001b[0;34m)\u001b[0m\u001b[0;34m\u001b[0m\u001b[0;34m\u001b[0m\u001b[0m\n\u001b[0m",
      "\u001b[0;31mNameError\u001b[0m: name 'cursor' is not defined"
     ]
    }
   ],
   "source": [
    "cursor.execute(\"\"\"SELECT business_id FROM yelp.businesses;\"\"\")\n"
   ]
  },
  {
   "cell_type": "code",
   "execution_count": null,
   "metadata": {},
   "outputs": [],
   "source": [
    "working_list = cursor.fetchall()\n",
    "biz_id_list =[]\n",
    "for b in working_list:\n",
    "    for x in b:\n",
    "        biz_id_list.append(x)"
   ]
  },
  {
   "cell_type": "code",
   "execution_count": null,
   "metadata": {},
   "outputs": [],
   "source": [
    "biz_id_list"
   ]
  },
  {
   "cell_type": "code",
   "execution_count": 4,
   "metadata": {},
   "outputs": [],
   "source": [
    "# API Call Function\n",
    "def rev_api_call(url, headers):\n",
    "    response = requests.get(url, headers=headers)\n",
    "    data = response.json()\n",
    "    return data['reviews']"
   ]
  },
  {
   "cell_type": "code",
   "execution_count": 5,
   "metadata": {},
   "outputs": [],
   "source": [
    "# Data Parsing Function\n",
    "def rev_parse_data(reviews, business_id):\n",
    "    parsed_revs = []\n",
    "    for review in reviews:\n",
    "        rev_tuple = (review['id'], review['review_text'], review['rating'], review['time_created'], business_id)\n",
    "        parsed_revs.append(rev_tuple)\n",
    "    return parsed_revs"
   ]
  },
  {
   "cell_type": "code",
   "execution_count": 6,
   "metadata": {},
   "outputs": [],
   "source": [
    "# Insert into DB Function\n",
    "def rev_insert_func(cnx, cursor, parsed_data):\n",
    "    stmt = \"INSERT INTO reviews (review_id, review_text, rating, time_created, business_id) VALUES (%s, %s, %s, %s, %s)\"\n",
    "    cursor.executemany(stmt, parsed_data)\n",
    "    cnx.commit()\n",
    "    print('Check the workbench.')"
   ]
  },
  {
   "cell_type": "code",
   "execution_count": null,
   "metadata": {},
   "outputs": [],
   "source": [
    "# Script/Function that combines the three functions above into a single process.\n",
    "def rev_paginate(business_id_list):\n",
    "    for b in business_id_list:\n",
    "        url= f'(https://api.yelp.com/v3/businesses/{b}/reviews)'\n",
    "        reviews = api_call(url, headers)\n",
    "        parsed_reviews = parse_rev_data(reviews, {b})\n",
    "        insert_func(cnx, cursor, parsed_reviews)"
   ]
  },
  {
   "cell_type": "code",
   "execution_count": null,
   "metadata": {},
   "outputs": [],
   "source": []
  }
 ],
 "metadata": {
  "kernelspec": {
   "display_name": "Python 3",
   "language": "python",
   "name": "python3"
  },
  "language_info": {
   "codemirror_mode": {
    "name": "ipython",
    "version": 3
   },
   "file_extension": ".py",
   "mimetype": "text/x-python",
   "name": "python",
   "nbconvert_exporter": "python",
   "pygments_lexer": "ipython3",
   "version": "3.7.4"
  }
 },
 "nbformat": 4,
 "nbformat_minor": 2
}
