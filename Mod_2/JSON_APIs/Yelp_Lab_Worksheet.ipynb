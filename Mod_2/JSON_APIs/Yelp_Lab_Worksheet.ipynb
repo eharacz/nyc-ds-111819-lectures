{
 "cells": [
  {
   "cell_type": "code",
   "execution_count": 2,
   "metadata": {},
   "outputs": [],
   "source": [
    "########################### Imports and DB Work"
   ]
  },
  {
   "cell_type": "code",
   "execution_count": 4,
   "metadata": {},
   "outputs": [],
   "source": [
    "import requests\n",
    "import json"
   ]
  },
  {
   "cell_type": "code",
   "execution_count": 5,
   "metadata": {},
   "outputs": [],
   "source": [
    "import mysql.connector "
   ]
  },
  {
   "cell_type": "code",
   "execution_count": 6,
   "metadata": {},
   "outputs": [],
   "source": [
    "import config"
   ]
  },
  {
   "cell_type": "code",
   "execution_count": 7,
   "metadata": {},
   "outputs": [],
   "source": [
    "cnx = mysql.connector .connect(\n",
    "    host = config.host,\n",
    "    user = config.user,\n",
    "    passwd = config.pw)\n"
   ]
  },
  {
   "cell_type": "code",
   "execution_count": 8,
   "metadata": {},
   "outputs": [],
   "source": [
    "    \n",
    "cursor = cnx.cursor()"
   ]
  },
  {
   "cell_type": "code",
   "execution_count": 13,
   "metadata": {},
   "outputs": [],
   "source": [
    "cursor.execute(\"CREATE DATABASE yelp\")"
   ]
  },
  {
   "cell_type": "code",
   "execution_count": 12,
   "metadata": {},
   "outputs": [],
   "source": [
    "cnx.database = 'yelp'"
   ]
  },
  {
   "cell_type": "code",
   "execution_count": 9,
   "metadata": {},
   "outputs": [
    {
     "data": {
      "text/plain": [
       "<mysql.connector.cursor_cext.CMySQLCursor at 0x112010890>"
      ]
     },
     "execution_count": 9,
     "metadata": {},
     "output_type": "execute_result"
    }
   ],
   "source": [
    "cursor"
   ]
  },
  {
   "cell_type": "code",
   "execution_count": 29,
   "metadata": {},
   "outputs": [],
   "source": [
    "create_table_businesses = \"\"\"CREATE TABLE businesses\n",
    "                        (business_id VARCHAR(225) PRIMARY KEY,\n",
    "                        name VARCHAR(225) NOT NULL,\n",
    "                        address VARCHAR(225) NOT NULL,\n",
    "                        rating FLOAT NOT NULL,\n",
    "                        price VARCHAR(50),\n",
    "                        review_count INT NOT NULL);\"\"\""
   ]
  },
  {
   "cell_type": "code",
   "execution_count": 30,
   "metadata": {},
   "outputs": [],
   "source": [
    "cursor.execute(create_table_businesses)"
   ]
  },
  {
   "cell_type": "code",
   "execution_count": 10,
   "metadata": {},
   "outputs": [],
   "source": [
    "create_table_reviews = \"\"\"CREATE TABLE reviews\n",
    "                        (review_id VARCHAR(30) PRIMARY KEY,\n",
    "                        review_text VARCHAR(150) NOT NULL,\n",
    "                        rating FLOAT,\n",
    "                        time_created NUMERIC,\n",
    "                        business_id VARCHAR(225) NOT NULL,\n",
    "                        CONSTRAINT fk_businesses\n",
    "                        FOREIGN KEY (business_id)\n",
    "                            REFERENCES businesses(business_id));\"\"\""
   ]
  },
  {
   "cell_type": "code",
   "execution_count": 13,
   "metadata": {},
   "outputs": [],
   "source": [
    "cursor.execute(create_table_reviews)"
   ]
  },
  {
   "cell_type": "code",
   "execution_count": null,
   "metadata": {},
   "outputs": [],
   "source": [
    "############################## Yelp call 1 setup"
   ]
  },
  {
   "cell_type": "code",
   "execution_count": 38,
   "metadata": {},
   "outputs": [],
   "source": [
    "url = 'https://api.yelp.com/v3/businesses/search'"
   ]
  },
  {
   "cell_type": "code",
   "execution_count": 39,
   "metadata": {},
   "outputs": [],
   "source": [
    "client_id = 'SrP-vVinyIiYU2-NOuqnOA'\n",
    "api_key = 'CaJ2qY7XSMjW7nhV9IK8KiEYI6Yj3kPAXR6Jdgstzo-YOFuAfT3AbrRF6UID6P9ia75sS8dzlih1HNcZEK1EHzu8Dp-gOnC3eVdyNpHKt4iJIUIOC7ovxCM68jrpXXYx'"
   ]
  },
  {
   "cell_type": "code",
   "execution_count": 40,
   "metadata": {},
   "outputs": [],
   "source": [
    "headers = {\n",
    "        'Authorization': 'Bearer {}'.format(api_key),\n",
    "    }"
   ]
  },
  {
   "cell_type": "code",
   "execution_count": 41,
   "metadata": {},
   "outputs": [],
   "source": [
    "# what type of business do you want to search\n",
    "term = 'bagel'\n",
    "\n",
    "#where do you want to perform this search\n",
    "location = 'East Village'\n",
    "\n",
    "# what is your other parameter you want to search against\n",
    "radius = 5000\n",
    "\n",
    "limit = 50"
   ]
  },
  {
   "cell_type": "code",
   "execution_count": 43,
   "metadata": {},
   "outputs": [],
   "source": [
    "url_params = {\n",
    "                \"term\": term.replace(' ', '+'),\n",
    "                \"location\": location.replace(' ', '+'),\n",
    "                \"radius\" : radius,\n",
    "                \"limit\" : limit\n",
    "            }"
   ]
  },
  {
   "cell_type": "code",
   "execution_count": 44,
   "metadata": {},
   "outputs": [],
   "source": [
    "response = requests.get(url, headers=headers, params=url_params)"
   ]
  },
  {
   "cell_type": "code",
   "execution_count": null,
   "metadata": {},
   "outputs": [],
   "source": [
    "############################# Working on the response"
   ]
  },
  {
   "cell_type": "code",
   "execution_count": 45,
   "metadata": {},
   "outputs": [],
   "source": [
    "data = response.json()"
   ]
  },
  {
   "cell_type": "code",
   "execution_count": 46,
   "metadata": {
    "scrolled": true
   },
   "outputs": [
    {
     "data": {
      "text/plain": [
       "{'id': 'VrCCr45dhN-RRM107iptdg',\n",
       " 'alias': 'russ-and-daughters-new-york',\n",
       " 'name': 'Russ & Daughters',\n",
       " 'image_url': 'https://s3-media3.fl.yelpcdn.com/bphoto/EN-MJ-kuk_-ihX1_DKHgFA/o.jpg',\n",
       " 'is_closed': False,\n",
       " 'url': 'https://www.yelp.com/biz/russ-and-daughters-new-york?adjust_creative=SrP-vVinyIiYU2-NOuqnOA&utm_campaign=yelp_api_v3&utm_medium=api_v3_business_search&utm_source=SrP-vVinyIiYU2-NOuqnOA',\n",
       " 'review_count': 2142,\n",
       " 'categories': [{'alias': 'bagels', 'title': 'Bagels'},\n",
       "  {'alias': 'smokehouse', 'title': 'Smokehouse'},\n",
       "  {'alias': 'bakeries', 'title': 'Bakeries'}],\n",
       " 'rating': 4.5,\n",
       " 'coordinates': {'latitude': 40.722589, 'longitude': -73.9882828294139},\n",
       " 'transactions': [],\n",
       " 'price': '$$',\n",
       " 'location': {'address1': '179 E Houston St',\n",
       "  'address2': '',\n",
       "  'address3': '',\n",
       "  'city': 'New York',\n",
       "  'zip_code': '10002',\n",
       "  'country': 'US',\n",
       "  'state': 'NY',\n",
       "  'display_address': ['179 E Houston St', 'New York, NY 10002']},\n",
       " 'phone': '+12124754880',\n",
       " 'display_phone': '(212) 475-4880',\n",
       " 'distance': 678.2185393150921}"
      ]
     },
     "execution_count": 46,
     "metadata": {},
     "output_type": "execute_result"
    }
   ],
   "source": [
    "data['businesses'][0]"
   ]
  },
  {
   "cell_type": "code",
   "execution_count": null,
   "metadata": {},
   "outputs": [],
   "source": [
    "########################### Parsing"
   ]
  },
  {
   "cell_type": "code",
   "execution_count": 47,
   "metadata": {},
   "outputs": [],
   "source": [
    "business = data['businesses'][0]"
   ]
  },
  {
   "cell_type": "code",
   "execution_count": 75,
   "metadata": {},
   "outputs": [],
   "source": [
    "#Create a tuple that contains only the information that we want\n",
    "#the join is used because that result comes back as a list and we want to convert into a string\n",
    "biz_tuple = (business['id'], business['name'], ' '.join(business['location']['display_address']), business['rating'], len(business['price']), business['review_count'])"
   ]
  },
  {
   "cell_type": "code",
   "execution_count": 79,
   "metadata": {},
   "outputs": [
    {
     "data": {
      "text/plain": [
       "('VrCCr45dhN-RRM107iptdg',\n",
       " 'Russ & Daughters',\n",
       " '179 E Houston St New York, NY 10002',\n",
       " 4.5,\n",
       " 2,\n",
       " 2142)"
      ]
     },
     "execution_count": 79,
     "metadata": {},
     "output_type": "execute_result"
    }
   ],
   "source": [
    "biz_tuple"
   ]
  },
  {
   "cell_type": "code",
   "execution_count": 80,
   "metadata": {},
   "outputs": [],
   "source": [
    "def parse_data(data_list):\n",
    "    # create a container to hold our parsed data\n",
    "    parse_data = []  \n",
    "    \n",
    "    # loop through our business and parse each individual business\n",
    "    for business in data_list:\n",
    "        try:\n",
    "            biz_tuple = (business['id'], business['name'], ' '.join(business['location']['display_address']), business['rating'], len(business['price']), business['review_count'])\n",
    "    # in the loop, add each individual parsed parsed business to our data container\n",
    "            parse_data.append(biz_tuple)\n",
    "    # return the container with all of the parsed results     \n",
    "        except:\n",
    "            biz_tuple = (business['id'], business['name'], ' '.join(business['location']['display_address']), business['rating'], 0, business['review_count'])\n",
    "            parse_data.append(biz_tuple)\n",
    "    return parse_data\n"
   ]
  },
  {
   "cell_type": "code",
   "execution_count": 81,
   "metadata": {
    "collapsed": true
   },
   "outputs": [
    {
     "data": {
      "text/plain": [
       "[('VrCCr45dhN-RRM107iptdg',\n",
       "  'Russ & Daughters',\n",
       "  '179 E Houston St New York, NY 10002',\n",
       "  4.5,\n",
       "  2,\n",
       "  2142),\n",
       " ('j1S3NUrkB3BVT49n_e76NQ',\n",
       "  'Best Bagel & Coffee',\n",
       "  '225 W 35th St New York, NY 10001',\n",
       "  4.5,\n",
       "  1,\n",
       "  3166),\n",
       " ('oi39VAwo4-KGm_gSkWPCsQ',\n",
       "  'Tompkins Square Bagels - Avenue A',\n",
       "  '165 Avenue A New York, NY 10009',\n",
       "  4.0,\n",
       "  1,\n",
       "  1077),\n",
       " ('foO2N-TrdPBO-dFn6M35TA',\n",
       "  'Brooklyn Bagel & Coffee Company',\n",
       "  '63 E 8th St New York, NY 10003',\n",
       "  4.5,\n",
       "  0,\n",
       "  88),\n",
       " ('BIFbVuIDJFS_2u_8vJxnwA',\n",
       "  'Tompkins Square Bagels -  2nd Ave',\n",
       "  '184 2nd Ave New York, NY 10003',\n",
       "  4.0,\n",
       "  1,\n",
       "  199),\n",
       " ('c3eMI4_o4dPDDhPV_ibBYQ',\n",
       "  'Ess-a-Bagel',\n",
       "  '831 3rd Ave New York, NY 10022',\n",
       "  4.0,\n",
       "  1,\n",
       "  3471),\n",
       " ('u9zVZH0liQu9skIz1kGrMA',\n",
       "  \"Heaven's Hot Bagel\",\n",
       "  '283 E Houston St New York, NY 10002',\n",
       "  4.0,\n",
       "  1,\n",
       "  192),\n",
       " ('SCornvTSCMQ2SvWGq8Z_Mw',\n",
       "  'Ess-A-Bagel',\n",
       "  '324 1st Ave New York, NY 10009',\n",
       "  4.0,\n",
       "  1,\n",
       "  845),\n",
       " ('gwo5ci1qtZZhOURn81ddhg',\n",
       "  \"Greenberg's Bagels\",\n",
       "  '103 N 3rd St Brooklyn, NY 11249',\n",
       "  3.5,\n",
       "  0,\n",
       "  12),\n",
       " ('tRys0z0O4EE8sivXLFZ3kQ',\n",
       "  \"David's Bagels\",\n",
       "  '273 1st Ave New York, NY 10003',\n",
       "  4.0,\n",
       "  1,\n",
       "  334),\n",
       " ('Ys9iYSjuFDpZj7B1X07v5g',\n",
       "  'Liberty Bagels Midtown',\n",
       "  '260 W 35th St New York, NY 10001',\n",
       "  4.5,\n",
       "  1,\n",
       "  367),\n",
       " ('pb_ryc8FYHpUPV56eV2Eyg',\n",
       "  'Brooklyn Bagel & Coffee Company',\n",
       "  '286 8th Ave New York, NY 10001',\n",
       "  4.0,\n",
       "  1,\n",
       "  1395),\n",
       " ('UgTfFaQ_NAyne5OwLtTpXQ',\n",
       "  'Bagels & Schmear',\n",
       "  '116 E 28th St New York, NY 10016',\n",
       "  4.0,\n",
       "  1,\n",
       "  476),\n",
       " ('0rQz8mkleT62eUkiAVs4UA',\n",
       "  'Russ & Daughters Cafe',\n",
       "  '127 Orchard St New York, NY 10002',\n",
       "  4.0,\n",
       "  2,\n",
       "  953),\n",
       " ('aM8SCVt3APBw1kE5Zg0kkQ',\n",
       "  'Native Bean',\n",
       "  '36A Ave A New York, NY 10009',\n",
       "  4.5,\n",
       "  1,\n",
       "  90),\n",
       " ('2buX7P8YIqcrHSKtqwm92g',\n",
       "  \"Kossar's\",\n",
       "  '367 Grand St New York, NY 10002',\n",
       "  3.5,\n",
       "  1,\n",
       "  494),\n",
       " ('4v5lbiExMocWoG7iKnYWrQ',\n",
       "  'Black Seed Bagels',\n",
       "  '176 First Ave New York, NY 10012',\n",
       "  3.0,\n",
       "  2,\n",
       "  223),\n",
       " ('n8AfzNmqZUfXZzHtieea_A',\n",
       "  \"Murray's Bagels\",\n",
       "  '500 Ave Of The Americas New York, NY 10011',\n",
       "  3.5,\n",
       "  1,\n",
       "  836),\n",
       " ('1s95hIhSQhLroVtp-4uOtw',\n",
       "  'Black Seed Bagels',\n",
       "  '170 Elizabeth St New York, NY 10012',\n",
       "  3.0,\n",
       "  2,\n",
       "  681),\n",
       " ('Gpc2-sPCXlIQUrkfi4bpzw',\n",
       "  'Court Street Bagels',\n",
       "  '181 Court St Brooklyn, NY 11201',\n",
       "  4.0,\n",
       "  1,\n",
       "  194),\n",
       " ('7HP9pH30Ha7xJsxsdVJBrg',\n",
       "  'Bagelsmith',\n",
       "  '189 Bedford Ave Brooklyn, NY 11211',\n",
       "  3.5,\n",
       "  1,\n",
       "  488),\n",
       " ('XTa5infpecABoyLZ86EH2w',\n",
       "  \"Bagel Bob's\",\n",
       "  '51 University Pl New York, NY 10003',\n",
       "  4.0,\n",
       "  1,\n",
       "  174),\n",
       " ('P91q647NhgyIf7nLc4wYsQ',\n",
       "  \"Frankel's Delicatessen\",\n",
       "  '631 Manhattan Ave Brooklyn, NY 11222',\n",
       "  4.0,\n",
       "  2,\n",
       "  238),\n",
       " ('S0QgzOvaw5COMRnKWlVGnA',\n",
       "  'Baz Bagel and Restaurant',\n",
       "  '181 Grand St New York, NY 10013',\n",
       "  3.5,\n",
       "  2,\n",
       "  379),\n",
       " ('bvIXVgn_Do7K7qnqcJmWhA',\n",
       "  'Tal Bagels',\n",
       "  '357 1st Ave New York, NY 10010',\n",
       "  3.5,\n",
       "  1,\n",
       "  121),\n",
       " ('VHORZQg5A3YNBptRN92QGg',\n",
       "  'The Lazy Llama Coffee Bar',\n",
       "  '72 E 1st Street New York, NY 10003',\n",
       "  4.5,\n",
       "  2,\n",
       "  83),\n",
       " ('kuKSvCZDFrgOrY-dcrOefg',\n",
       "  'Round K',\n",
       "  '99 Allen St New York, NY 10002',\n",
       "  4.5,\n",
       "  2,\n",
       "  364),\n",
       " ('SSMCUb9erxbOkz6XUgHfKA',\n",
       "  \"Andrew's Classic BKLYN Bagels by Hard Times Sundaes\",\n",
       "  '445 Albee Square W Brooklyn, NY 11201',\n",
       "  4.5,\n",
       "  0,\n",
       "  7),\n",
       " ('U43uuWwSyH95gXsUhejd4w',\n",
       "  'La Bagel Delight at Dumbo',\n",
       "  '104 Front St Brooklyn, NY 11201',\n",
       "  3.5,\n",
       "  1,\n",
       "  140),\n",
       " ('rGfDX_ors68i8LnuG55NQA',\n",
       "  'Bagel Buffet',\n",
       "  '510 Ave Of Americas New York, NY 10011',\n",
       "  4.0,\n",
       "  1,\n",
       "  52),\n",
       " ('lQ7H-COT5duZQQ0XqGFPDg',\n",
       "  'Smith St Bagels',\n",
       "  '202 Smith St Brooklyn, NY 11201',\n",
       "  4.0,\n",
       "  1,\n",
       "  362),\n",
       " ('FkBFKwF9bDl3BCt3vebHbw',\n",
       "  'Williamsburg Bagel',\n",
       "  '343 Roebling St Brooklyn, NY 11211',\n",
       "  3.5,\n",
       "  1,\n",
       "  27),\n",
       " ('tPfXeeC54I8MLSUE6Tnzcw',\n",
       "  'Bagel Belly',\n",
       "  '114 Third Ave New York, NY 10003',\n",
       "  3.0,\n",
       "  1,\n",
       "  159),\n",
       " ('Cvcb-ZSNCNmb-pW38j8JFQ',\n",
       "  'Black Seed Bagels',\n",
       "  '75 9th Ave Chelsea Market New York, NY 10011',\n",
       "  4.0,\n",
       "  0,\n",
       "  4),\n",
       " ('pWywDImlX0n_XKPNg0Bizg',\n",
       "  \"Sunny and Annie's\",\n",
       "  '94 Ave B New York, NY 10003',\n",
       "  4.5,\n",
       "  1,\n",
       "  472),\n",
       " ('NF0YMfLNRhqssVcwzF6fCg',\n",
       "  'Three Seat Espresso',\n",
       "  '137 Avenue A New York, NY 10009',\n",
       "  4.5,\n",
       "  2,\n",
       "  182),\n",
       " ('drSJJWL7lsG8dSRYI--6wQ',\n",
       "  'NY Bagels & Cafe',\n",
       "  '587 1st Ave New York, NY 10016',\n",
       "  4.0,\n",
       "  1,\n",
       "  200),\n",
       " ('eAWGPqVKNrUuLw7V5S8mYQ',\n",
       "  'Bagel Boss',\n",
       "  '263 1st Ave New York, NY 10003',\n",
       "  3.0,\n",
       "  1,\n",
       "  170),\n",
       " ('3PAWQuIvJ8DIa5akaF3XYQ',\n",
       "  'Marcy & Myrtle Cafe',\n",
       "  '101 N 10th St Brooklyn, NY 11249',\n",
       "  5.0,\n",
       "  0,\n",
       "  13),\n",
       " ('ohgo7IDUn5bOWnDJP9xvYQ',\n",
       "  'Davidovich Bakery',\n",
       "  '88 Essex St New York, NY 10002',\n",
       "  3.5,\n",
       "  1,\n",
       "  103),\n",
       " ('s-Fg5eHqv4VCAn2ANkHiZA',\n",
       "  \"Leo's Bagels\",\n",
       "  '3 Hanover Sq New York, NY 10005',\n",
       "  3.5,\n",
       "  1,\n",
       "  842),\n",
       " ('GLf8_rOnkszkGmPAiMzO9Q',\n",
       "  'Bread & Spread',\n",
       "  '151 Front St Dumbo, NY 11201',\n",
       "  4.5,\n",
       "  2,\n",
       "  137),\n",
       " ('MzSsxuBwJBlHmNFgEiOOeA',\n",
       "  'Have-A-Bagel',\n",
       "  '197 Havemeyer St Brooklyn, NY 11211',\n",
       "  3.5,\n",
       "  1,\n",
       "  84),\n",
       " ('PWDSfW-c8198UegLtaTR1A',\n",
       "  'Russ & Daughters at the Brooklyn Navy Yard',\n",
       "  '141 Flushing Ave Bldg 77 Brooklyn, NY 11205',\n",
       "  3.0,\n",
       "  2,\n",
       "  44),\n",
       " ('m6FV9h1mMJ9_LZetNOjNjg',\n",
       "  'Bagelworks',\n",
       "  '1229 1st Ave New York, NY 10065',\n",
       "  4.0,\n",
       "  1,\n",
       "  367),\n",
       " ('rdgOCFe30sIaAo6tkXkJ-A',\n",
       "  \"Shelsky's of Brooklyn Appetizing & Delicateseen\",\n",
       "  '141 Court St Brooklyn, NY 11201',\n",
       "  4.0,\n",
       "  3,\n",
       "  179),\n",
       " ('j1TePe2B6pjvvEg2VOLNcg',\n",
       "  'Gramercy Bagels',\n",
       "  '246 3rd Ave New York, NY 10010',\n",
       "  3.0,\n",
       "  1,\n",
       "  150),\n",
       " ('lLsEzgmXwCoP6OK5ACT1Ig',\n",
       "  'Ess-a-Bagel',\n",
       "  '108 W 32nd St New York, NY 10001',\n",
       "  3.5,\n",
       "  2,\n",
       "  86),\n",
       " ('u_NC3WVKFelz-PGZ7a97AQ',\n",
       "  'District bagels',\n",
       "  '125 Fulton St New York, NY 10038',\n",
       "  3.0,\n",
       "  0,\n",
       "  38),\n",
       " ('PdynUlqpqc4GHyDNqNVIiA',\n",
       "  'Future You Café',\n",
       "  '117 E 7th St New York, NY 10009',\n",
       "  4.5,\n",
       "  0,\n",
       "  49)]"
      ]
     },
     "execution_count": 81,
     "metadata": {},
     "output_type": "execute_result"
    }
   ],
   "source": [
    "parse_data(data['businesses'])"
   ]
  },
  {
   "cell_type": "code",
   "execution_count": 85,
   "metadata": {},
   "outputs": [],
   "source": [
    "parsed_data = parse_data(data['businesses'])"
   ]
  },
  {
   "cell_type": "code",
   "execution_count": null,
   "metadata": {},
   "outputs": [],
   "source": [
    "###################### Inserting"
   ]
  },
  {
   "cell_type": "code",
   "execution_count": null,
   "metadata": {},
   "outputs": [],
   "source": [
    "#def db_insert(cnx, cursor, parsed results):\n",
    "    # your code to insert and commit the results\n",
    "    # I would create the connection and cursor outside of this function and then pass it through"
   ]
  },
  {
   "cell_type": "code",
   "execution_count": 82,
   "metadata": {},
   "outputs": [],
   "source": [
    "stmt = \"INSERT INTO businesses (business_id, name, address, rating, price, review_count) VALUES (%s, %s, %s, %s, %s, %s)\""
   ]
  },
  {
   "cell_type": "code",
   "execution_count": 86,
   "metadata": {},
   "outputs": [],
   "source": [
    "cursor.executemany(stmt, parsed_data)\n",
    "cnx.commit()"
   ]
  },
  {
   "cell_type": "code",
   "execution_count": null,
   "metadata": {},
   "outputs": [],
   "source": [
    "###################### Variable Tracking"
   ]
  },
  {
   "cell_type": "code",
   "execution_count": null,
   "metadata": {},
   "outputs": [],
   "source": [
    "# create a variable  to keep track of which result you are in. \n",
    "cur = 0\n",
    "\n",
    "#set up a while loop to go through and grab the result \n",
    "while cur < num and cur < 1000:\n",
    "    #set the offset parameter to be where you currently are in the results \n",
    "    url_params['offset'] = cur\n",
    "    #make your API call with the new offset number\n",
    "    results = yelp_call(url_params, api_key)\n",
    "    \n",
    "    #after you get your results you can now use your function to parse those results\n",
    "    parsed_results = parse_results(results)\n",
    "    \n",
    "    # use your function to insert your parsed results into the db\n",
    "    db_insert(parsed_results)\n",
    "    #increment the counter by 50 to move on to the next results\n",
    "    cur += 50"
   ]
  },
  {
   "cell_type": "code",
   "execution_count": null,
   "metadata": {},
   "outputs": [],
   "source": []
  },
  {
   "cell_type": "code",
   "execution_count": null,
   "metadata": {},
   "outputs": [],
   "source": [
    "# create a variable  to keep track of which result you are in. \n",
    "cur = 0\n",
    "\n",
    "#set up a while loop to go through and grab the result \n",
    "while cur < num and cur < 1000:\n",
    "    #set the offset parameter to be where you currently are in the results \n",
    "    url_params['offset'] = cur\n",
    "    #make your API call with the new offset number\n",
    "    response = requests.get(url, headers=headers, params=url_params)\n",
    "    \n",
    "    #after you get your results you can now use your function to parse those results\n",
    "    parsed_results = parse_results(response)\n",
    "    \n",
    "    # use your function to insert your parsed results into the db\n",
    "    db_insert(parsed_results)\n",
    "    #increment the counter by 50 to move on to the next results\n",
    "    cur += 50"
   ]
  }
 ],
 "metadata": {
  "kernelspec": {
   "display_name": "Python 3",
   "language": "python",
   "name": "python3"
  },
  "language_info": {
   "codemirror_mode": {
    "name": "ipython",
    "version": 3
   },
   "file_extension": ".py",
   "mimetype": "text/x-python",
   "name": "python",
   "nbconvert_exporter": "python",
   "pygments_lexer": "ipython3",
   "version": "3.7.4"
  }
 },
 "nbformat": 4,
 "nbformat_minor": 2
}
