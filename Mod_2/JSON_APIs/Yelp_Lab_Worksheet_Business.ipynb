{
 "cells": [
  {
   "cell_type": "code",
   "execution_count": 58,
   "metadata": {},
   "outputs": [],
   "source": [
    "import requests\n",
    "import json"
   ]
  },
  {
   "cell_type": "code",
   "execution_count": 59,
   "metadata": {},
   "outputs": [],
   "source": [
    "import mysql.connector "
   ]
  },
  {
   "cell_type": "code",
   "execution_count": 75,
   "metadata": {},
   "outputs": [],
   "source": [
    "import config"
   ]
  },
  {
   "cell_type": "code",
   "execution_count": 133,
   "metadata": {},
   "outputs": [],
   "source": [
    "cnx = mysql.connector .connect(\n",
    "    host = config.host,\n",
    "    user = config.user,\n",
    "    passwd = config.pw)\n"
   ]
  },
  {
   "cell_type": "code",
   "execution_count": 134,
   "metadata": {},
   "outputs": [],
   "source": [
    "cursor = cnx.cursor()"
   ]
  },
  {
   "cell_type": "code",
   "execution_count": 135,
   "metadata": {},
   "outputs": [],
   "source": [
    "cnx.database = 'yelp'"
   ]
  },
  {
   "cell_type": "code",
   "execution_count": 136,
   "metadata": {
    "scrolled": true
   },
   "outputs": [
    {
     "data": {
      "text/plain": [
       "<mysql.connector.cursor_cext.CMySQLCursor at 0x107a0a550>"
      ]
     },
     "execution_count": 136,
     "metadata": {},
     "output_type": "execute_result"
    }
   ],
   "source": [
    "cursor"
   ]
  },
  {
   "cell_type": "code",
   "execution_count": 80,
   "metadata": {},
   "outputs": [],
   "source": [
    "cur=0"
   ]
  },
  {
   "cell_type": "code",
   "execution_count": 81,
   "metadata": {},
   "outputs": [],
   "source": [
    "url = 'https://api.yelp.com/v3/businesses/search'\n",
    "client_id = 'SrP-vVinyIiYU2-NOuqnOA'\n",
    "api_key = 'CaJ2qY7XSMjW7nhV9IK8KiEYI6Yj3kPAXR6Jdgstzo-YOFuAfT3AbrRF6UID6P9ia75sS8dzlih1HNcZEK1EHzu8Dp-gOnC3eVdyNpHKt4iJIUIOC7ovxCM68jrpXXYx'\n",
    "headers = {\n",
    "        'Authorization': 'Bearer {}'.format(api_key),\n",
    "        }\n",
    "        # what type of business do you want to search\n",
    "term = 'bagel'\n",
    "\n",
    "        #where do you want to perform this search\n",
    "location = 'East Village'\n",
    "\n",
    "        # what is your other parameter you want to search against\n",
    "radius = 5000\n",
    "\n",
    "limit = 50\n",
    "    \n",
    "offset = cur\n",
    "    \n",
    "url_params = {\n",
    "                \"term\": term.replace(' ', '+'),\n",
    "                \"location\": location.replace(' ', '+'),\n",
    "                \"radius\" : radius,\n",
    "                \"limit\" : limit,\n",
    "                \"offset\" : offset\n",
    "        \n",
    "                }"
   ]
  },
  {
   "cell_type": "code",
   "execution_count": 82,
   "metadata": {},
   "outputs": [],
   "source": [
    "def api_call(url, headers, url_params):\n",
    "    response = requests.get(url, headers=headers, params=url_params)\n",
    "    data = response.json()\n",
    "    business = data['businesses']\n",
    "    return business"
   ]
  },
  {
   "cell_type": "code",
   "execution_count": 83,
   "metadata": {},
   "outputs": [],
   "source": [
    "def parse_data(data_list):\n",
    "    parsed_data = []  \n",
    "    for business in data_list:\n",
    "        try:\n",
    "            biz_tuple = (business['id'], business['name'], ' '.join(business['location']['display_address']), business['rating'], len(business['price']), business['review_count'])\n",
    "            parsed_data.append(biz_tuple)    \n",
    "        except:\n",
    "            biz_tuple = (business['id'], business['name'], ' '.join(business['location']['display_address']), business['rating'], 0, business['review_count'])\n",
    "            parsed_data.append(biz_tuple)\n",
    "    return parsed_data\n"
   ]
  },
  {
   "cell_type": "code",
   "execution_count": 84,
   "metadata": {},
   "outputs": [],
   "source": [
    "def insert_func(cnx, cursor, parsed_data):\n",
    "    stmt = \"INSERT INTO businesses (business_id, name, address, rating, price, review_count) VALUES (%s, %s, %s, %s, %s, %s)\"\n",
    "    cursor.executemany(stmt, parsed_data)\n",
    "    cnx.commit()\n",
    "    print('Check the workbench.')"
   ]
  },
  {
   "cell_type": "code",
   "execution_count": null,
   "metadata": {},
   "outputs": [],
   "source": []
  },
  {
   "cell_type": "code",
   "execution_count": 87,
   "metadata": {},
   "outputs": [],
   "source": [
    "def paginate(url_params, headers, url):\n",
    "    cur = 0\n",
    "    while cur < 1000:\n",
    "        url_params['offset'] = cur\n",
    "        businesses = api_call(url, headers, url_params)\n",
    "        parsed_data = parse_data(businesses)\n",
    "        insert_func(cnx, cursor, parsed_data)\n",
    "        cur += 50"
   ]
  },
  {
   "cell_type": "code",
   "execution_count": 88,
   "metadata": {
    "scrolled": true
   },
   "outputs": [
    {
     "name": "stdout",
     "output_type": "stream",
     "text": [
      "Check the workbench.\n",
      "Check the workbench.\n",
      "Check the workbench.\n",
      "Check the workbench.\n",
      "Check the workbench.\n",
      "Check the workbench.\n",
      "Check the workbench.\n",
      "Check the workbench.\n",
      "Check the workbench.\n",
      "Check the workbench.\n",
      "Check the workbench.\n",
      "Check the workbench.\n",
      "Check the workbench.\n",
      "Check the workbench.\n",
      "Check the workbench.\n",
      "Check the workbench.\n",
      "Check the workbench.\n",
      "Check the workbench.\n",
      "Check the workbench.\n",
      "Check the workbench.\n"
     ]
    }
   ],
   "source": [
    "paginate(url_params, headers, url)"
   ]
  },
  {
   "cell_type": "code",
   "execution_count": null,
   "metadata": {},
   "outputs": [],
   "source": []
  }
 ],
 "metadata": {
  "kernelspec": {
   "display_name": "Python 3",
   "language": "python",
   "name": "python3"
  },
  "language_info": {
   "codemirror_mode": {
    "name": "ipython",
    "version": 3
   },
   "file_extension": ".py",
   "mimetype": "text/x-python",
   "name": "python",
   "nbconvert_exporter": "python",
   "pygments_lexer": "ipython3",
   "version": "3.7.4"
  }
 },
 "nbformat": 4,
 "nbformat_minor": 2
}
